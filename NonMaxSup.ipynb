{
  "nbformat": 4,
  "nbformat_minor": 0,
  "metadata": {
    "colab": {
      "name": "NonMaxSup.ipynb",
      "provenance": []
    },
    "kernelspec": {
      "name": "python3",
      "display_name": "Python 3"
    }
  },
  "cells": [
    {
      "cell_type": "code",
      "metadata": {
        "id": "vw4HZjsie8W9",
        "colab_type": "code",
        "colab": {}
      },
      "source": [
        "import cv2\n",
        "import numpy as np\n",
        "import matplotlib.pyplot as plt\n",
        "\n"
      ],
      "execution_count": null,
      "outputs": []
    },
    {
      "cell_type": "code",
      "metadata": {
        "id": "5nte8Y2WfJZN",
        "colab_type": "code",
        "colab": {}
      },
      "source": [
        "\n",
        "def NonMaximalSuppression(img, radius):\n",
        "    \"\"\"\n",
        "    take top 4% as maximum and only consider pixel as local maxima\n",
        "    if it is around a pixel with a value = to any of the 4%\n",
        "    \"\"\"\n",
        "\n",
        "    return img\n"
      ],
      "execution_count": null,
      "outputs": []
    },
    {
      "cell_type": "code",
      "metadata": {
        "id": "gz0TpUwCfUVS",
        "colab_type": "code",
        "colab": {}
      },
      "source": [
        "\n",
        "def get_gradients_xy(img, ksize):\n",
        "    ## Student Code ~ 2 lines of codes\n",
        "    sobelx = cv2.Sobel(img, cv2.CV_32FC1, 1,0,ksize=ksize)\n",
        "    sobely = cv2.Sobel(img, cv2.CV_32FC1, 0,1,ksize=ksize)\n",
        "    #\n",
        "    sobelx = np.absolute(sobelx)\n",
        "    sobely = np.absolute(sobely)\n",
        "\n",
        "    sobelx = np.uint8(sobelx)\n",
        "    sobely = np.uint8(sobely)\n",
        "\n",
        "    return sobelx, sobely\n",
        "    ## Student Code Ends\n",
        "\n",
        "\n",
        "def rescale(img, min,max):\n",
        "    ## Student Code\n",
        "    img = (img-img.min())/float(img.max()-img.min())\n",
        "    img = min + img * (max-min)\n",
        "    ## End Student Code\n",
        "    return img"
      ],
      "execution_count": null,
      "outputs": []
    },
    {
      "cell_type": "code",
      "metadata": {
        "id": "LyPMDMnPfQNo",
        "colab_type": "code",
        "colab": {}
      },
      "source": [
        "def harris(img, thresh, radius=2, verbose=True):\n",
        "    Gx, Gy = get_gradients_xy(img, 5)\n",
        "\n",
        "    if verbose:\n",
        "        cv2.imshow(\"Gradients\", np.hstack([Gx, Gy]))\n",
        "\n",
        "    # 2- smooth the derivative a little using gaussian\n",
        "    #Student Code ~ 2 Lines\n",
        "    Gx = cv2.GaussianBlur(Gx, (3, 3), sigmaX=3,sigmaY=3)\n",
        "    Gy = cv2.GaussianBlur(Gy, (3, 3), sigmaX=3,sigmaY=3)\n",
        "    #End Student Code\n",
        "\n",
        "    cv2.imshow(\"Blured\", np.hstack([Gx, Gy]))\n",
        "    cv2.waitKey(0)\n",
        "    cv2.destroyAllWindows()\n",
        "\n",
        "    # 3- Calculate R:\n",
        "    R = np.zeros(img.shape)\n",
        "    k = 0.04\n",
        "\n",
        "    # \t3.1 Loop on each pixel:\n",
        "    for i in range(len(Gx)):\n",
        "        for j in range(len(Gx[i])):\n",
        "    # \t3.2 Calculate M for each pixel:\n",
        "    # \t\t    M = [[a11, a12],\n",
        "    #                [a21, a22]]\n",
        "    #           with a11=Gx^2, a12=GxGy, a21=GxGy, a22=Gy^2\n",
        "            #Student Code ~ 1 line of code\n",
        "            M = np.array([[Gx[i,j]*Gx[i,j], Gx[i,j]*Gy[i, j]],\n",
        "                          [Gx[i,j]*Gy[i,j], Gy[i,j]*Gy[i, j]]])\n",
        "            #Student Code\n",
        "\n",
        "    # \t3.3 Calculate Det_M = np.linalg.det(a) or Det_M = a11*a22 - a12*a21; and trace=a11+a22\n",
        "            Det_M = np.linalg.det(M)\n",
        "\n",
        "    # \t3.4 Calculate Response at this pixel = det-k*trace^2\n",
        "    #   where trace of M is the sum of its diagonals\n",
        "            #Student Code ~ 1 line of code\n",
        "            R[i, j] = Det_M - k*(M[0,0]+M[1, 1])**2\n",
        "            #End Student Code\n",
        "\n",
        "    # 4 Display the result, but make sure to re-scale the data in the range 0 to 255\n",
        "\n",
        "    R = rescale(R, 0, 255)\n",
        "    # plt.imshow(R, cmap=\"gray\")\n",
        "\n",
        "    # 5- Threshold and Non-Maximal Suppression\n",
        "    # Student Code ~ 2 lines of code\n",
        "    R[R>thresh] = 255\n",
        "    R[R<=thresh] = 0\n",
        "    # End Student Code\n",
        "\n",
        "    R = NonMaximalSuppression(R, radius)\n",
        "    return R\n"
      ],
      "execution_count": null,
      "outputs": []
    },
    {
      "cell_type": "code",
      "metadata": {
        "id": "pGEWarF0fo_M",
        "colab_type": "code",
        "colab": {}
      },
      "source": [
        "img_pairs = [['check.bmp', 'check_rot.bmp'],\n",
        "             ['simA.jpg', 'simB.jpg'],\n",
        "             ['transA.jpg', 'transB.jpg']]\n",
        "dir = 'input/'\n",
        "i = 0;\n",
        "\n",
        "for [img1,img2] in img_pairs:\n",
        "    i += 1\n",
        "    img1 = cv2.imread(dir+img1, 0)\n",
        "    img2 = cv2.imread(dir+img2, 0)\n",
        "    r1 = harris(img1, thresh=200, radius=2)\n",
        "    r2 = harris(img2, thresh=200) #Note that threshod may need to be different from picture to another\n",
        "    plt.figure(i)\n",
        "    plt.subplot(221), plt.imshow(img1, cmap='gray')\n",
        "    plt.subplot(222), plt.imshow(img2, cmap='gray')\n",
        "    plt.subplot(223), plt.imshow(r1, cmap='gray')\n",
        "    plt.subplot(224), plt.imshow(r2, cmap='gray')\n",
        "    plt.show()"
      ],
      "execution_count": null,
      "outputs": []
    }
  ]
}